{
 "cells": [
  {
   "cell_type": "code",
   "execution_count": 2,
   "metadata": {},
   "outputs": [
    {
     "name": "stdout",
     "output_type": "stream",
     "text": [
      "Main Thead: name=MainThread, idnet=21400, id=21400,data=0\n",
      "Starting thread1\n",
      "threadfunc: name=Thread-5 (threadfunc), idnet=20860, id=20860,data=1\n",
      "starting thread2\n",
      "threadfunc: name=Thread-6 (threadfunc), idnet=12140, id=12140,data=25\n",
      "Waiting for thread1 to finish\n",
      "Waiting for thread2 to finish\n",
      "all done\n"
     ]
    }
   ],
   "source": [
    "\n",
    "from threading import Thread, current_thread, get_ident, get_native_id\n",
    "\n",
    "\n",
    "def printThread(name,Data=0):\n",
    "    thread = current_thread()\n",
    "    print(f'{name}: name={thread.name}, idnet={get_ident()}, id={get_native_id()},data={Data}')\n",
    "\n",
    "\n",
    "def threadfunc(number):\n",
    "    printThread(\"threadfunc\",number)\n",
    "\n",
    "\n",
    "if __name__ == \"__main__\":\n",
    "    printThread(\"Main Thead\")\n",
    "\n",
    "    #create some threads and tell them to run on some functions\n",
    "    thread1 = Thread(target=threadfunc,args=(1,), daemon=True)\n",
    "    thread2 = Thread(target=threadfunc,args=(25,), daemon=True)\n",
    "    print(\"Starting thread1\")\n",
    "    thread1.start()\n",
    "    print(\"starting thread2\")\n",
    "    thread2.start()\n",
    "    print(\"Waiting for thread1 to finish\")\n",
    "    thread1.join()\n",
    "    print(\"Waiting for thread2 to finish\")\n",
    "    thread2.join()\n",
    "    print(\"all done\")\n",
    "\n",
    "    \n",
    "   \n",
    "\n",
    "\n",
    "\n"
   ]
  },
  {
   "cell_type": "code",
   "execution_count": 3,
   "metadata": {},
   "outputs": [
    {
     "name": "stdout",
     "output_type": "stream",
     "text": [
      "Main Thead: name=MainThread, idnet=21400, id=21400,data=0\n",
      "Starting thread1\n",
      "threadfunc attempting to Acquire lock: name=Thread-7 (threadfunc), idnet=16712, id=16712,data=0\n",
      "I have the lock and doing stuff: name=Thread-7 (threadfunc), idnet=16712, id=16712,data=0\n",
      "starting thread2\n",
      "threadfunc attempting to Acquire lock: name=Thread-8 (threadfunc), idnet=19980, id=19980,data=0\n",
      "Waiting for thread1 to finish\n",
      "Releasing lock: name=Thread-7 (threadfunc), idnet=16712, id=16712,data=0\n",
      "thread1 done\n",
      "Waiting for thread2 to finish\n",
      "I have the lock and doing stuff: name=Thread-8 (threadfunc), idnet=19980, id=19980,data=0\n",
      "Releasing lock: name=Thread-8 (threadfunc), idnet=19980, id=19980,data=0\n",
      "thread2 done\n",
      "all done\n"
     ]
    }
   ],
   "source": [
    "\n",
    "from threading import Thread, current_thread, get_ident, get_native_id\n",
    "from threading import Lock\n",
    "from time import sleep\n",
    "lock = Lock()\n",
    "\n",
    "def printThread(name,Data=0):\n",
    "    thread = current_thread()\n",
    "    print(f'{name}: name={thread.name}, idnet={get_ident()}, id={get_native_id()},data={Data}')\n",
    "\n",
    "\n",
    "def threadfunc(number):\n",
    "    printThread(\"threadfunc attempting to Acquire lock\")\n",
    "    lock.acquire()\n",
    "    printThread(\"I have the lock and doing stuff\")\n",
    "    sleep(2)\n",
    "    printThread(\"Releasing lock\")\n",
    "    lock.release()\n",
    "\n",
    "\n",
    "if __name__ == \"__main__\":\n",
    "    printThread(\"Main Thead\")\n",
    "\n",
    "    thread1 = Thread(target=threadfunc,args=(1,), daemon=True)\n",
    "    thread2 = Thread(target=threadfunc,args=(25,), daemon=True)\n",
    "\n",
    "    print(\"Starting thread1\")\n",
    "    thread1.start()\n",
    "    print(\"starting thread2\")\n",
    "    thread2.start()\n",
    "    print(\"Waiting for thread1 to finish\")\n",
    "    thread1.join()\n",
    "    print(\"thread1 done\")\n",
    "    print(\"Waiting for thread2 to finish\")\n",
    "    thread2.join()\n",
    "    print(\"thread2 done\")\n",
    "    print(\"all done\")\n",
    "\n",
    "    \n",
    "   \n",
    "\n",
    "\n",
    "\n"
   ]
  },
  {
   "cell_type": "code",
   "execution_count": null,
   "metadata": {},
   "outputs": [],
   "source": []
  }
 ],
 "metadata": {
  "kernelspec": {
   "display_name": "Python 3",
   "language": "python",
   "name": "python3"
  },
  "language_info": {
   "codemirror_mode": {
    "name": "ipython",
    "version": 3
   },
   "file_extension": ".py",
   "mimetype": "text/x-python",
   "name": "python",
   "nbconvert_exporter": "python",
   "pygments_lexer": "ipython3",
   "version": "3.10.10"
  },
  "orig_nbformat": 4,
  "vscode": {
   "interpreter": {
    "hash": "ede8e11e9ba2b2bb9df5f44d52f3ae4d35cb16ef808fbdc0491b706cb6ed4770"
   }
  }
 },
 "nbformat": 4,
 "nbformat_minor": 2
}
